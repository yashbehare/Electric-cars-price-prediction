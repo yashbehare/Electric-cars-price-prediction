{
 "cells": [
  {
   "cell_type": "markdown",
   "id": "48fa919a",
   "metadata": {},
   "source": [
    "# Electric car price prediction"
   ]
  },
  {
   "cell_type": "markdown",
   "id": "0ef6abda",
   "metadata": {},
   "source": [
    "# DSBDA Mini project"
   ]
  },
  {
   "cell_type": "markdown",
   "id": "080c82ca",
   "metadata": {},
   "source": [
    "# Roll no : 33202, 33206, 33207"
   ]
  },
  {
   "cell_type": "code",
   "execution_count": 1,
   "id": "86343df4",
   "metadata": {},
   "outputs": [],
   "source": [
    "import numpy as np\n",
    "import pandas as pd \n",
    "import matplotlib.pyplot as plt\n",
    "import seaborn as sns"
   ]
  },
  {
   "cell_type": "markdown",
   "id": "ed6bbc04",
   "metadata": {},
   "source": [
    "#  Business Understanding"
   ]
  },
  {
   "cell_type": "code",
   "execution_count": 2,
   "id": "fd5c3f2a",
   "metadata": {},
   "outputs": [
    {
     "data": {
      "text/html": [
       "<div>\n",
       "<style scoped>\n",
       "    .dataframe tbody tr th:only-of-type {\n",
       "        vertical-align: middle;\n",
       "    }\n",
       "\n",
       "    .dataframe tbody tr th {\n",
       "        vertical-align: top;\n",
       "    }\n",
       "\n",
       "    .dataframe thead th {\n",
       "        text-align: right;\n",
       "    }\n",
       "</style>\n",
       "<table border=\"1\" class=\"dataframe\">\n",
       "  <thead>\n",
       "    <tr style=\"text-align: right;\">\n",
       "      <th></th>\n",
       "      <th>Name</th>\n",
       "      <th>Subtitle</th>\n",
       "      <th>Acceleration</th>\n",
       "      <th>TopSpeed</th>\n",
       "      <th>Range</th>\n",
       "      <th>Efficiency</th>\n",
       "      <th>FastChargeSpeed</th>\n",
       "      <th>Drive</th>\n",
       "      <th>NumberofSeats</th>\n",
       "      <th>PriceinGermany</th>\n",
       "      <th>PriceinUK</th>\n",
       "    </tr>\n",
       "  </thead>\n",
       "  <tbody>\n",
       "    <tr>\n",
       "      <th>0</th>\n",
       "      <td>Opel Ampera-e</td>\n",
       "      <td>Battery Electric Vehicle |       58 kWh</td>\n",
       "      <td>7.3 sec</td>\n",
       "      <td>150 km/h</td>\n",
       "      <td>335 km</td>\n",
       "      <td>173 Wh/km</td>\n",
       "      <td>210 km/h</td>\n",
       "      <td>Front Wheel Drive</td>\n",
       "      <td>5</td>\n",
       "      <td>€42,990</td>\n",
       "      <td>NaN</td>\n",
       "    </tr>\n",
       "    <tr>\n",
       "      <th>1</th>\n",
       "      <td>Renault Kangoo Maxi ZE 33</td>\n",
       "      <td>Battery Electric Vehicle |       31 kWh</td>\n",
       "      <td>22.4 sec</td>\n",
       "      <td>130 km/h</td>\n",
       "      <td>160 km</td>\n",
       "      <td>194 Wh/km</td>\n",
       "      <td>-</td>\n",
       "      <td>Front Wheel Drive</td>\n",
       "      <td>5</td>\n",
       "      <td>NaN</td>\n",
       "      <td>£31,680</td>\n",
       "    </tr>\n",
       "    <tr>\n",
       "      <th>2</th>\n",
       "      <td>Nissan Leaf</td>\n",
       "      <td>Battery Electric Vehicle |       36 kWh</td>\n",
       "      <td>7.9 sec</td>\n",
       "      <td>144 km/h</td>\n",
       "      <td>220 km</td>\n",
       "      <td>164 Wh/km</td>\n",
       "      <td>230 km/h</td>\n",
       "      <td>Front Wheel Drive</td>\n",
       "      <td>5</td>\n",
       "      <td>€29,990</td>\n",
       "      <td>£25,995</td>\n",
       "    </tr>\n",
       "    <tr>\n",
       "      <th>3</th>\n",
       "      <td>Audi e-tron Sportback 55 quattro</td>\n",
       "      <td>Battery Electric Vehicle |       86.5 kWh</td>\n",
       "      <td>5.7 sec</td>\n",
       "      <td>200 km/h</td>\n",
       "      <td>375 km</td>\n",
       "      <td>231 Wh/km</td>\n",
       "      <td>600 km/h</td>\n",
       "      <td>All Wheel Drive</td>\n",
       "      <td>5</td>\n",
       "      <td>NaN</td>\n",
       "      <td>£79,900</td>\n",
       "    </tr>\n",
       "    <tr>\n",
       "      <th>4</th>\n",
       "      <td>Porsche Taycan Turbo S</td>\n",
       "      <td>Battery Electric Vehicle |       83.7 kWh</td>\n",
       "      <td>2.8 sec</td>\n",
       "      <td>260 km/h</td>\n",
       "      <td>390 km</td>\n",
       "      <td>215 Wh/km</td>\n",
       "      <td>860 km/h</td>\n",
       "      <td>All Wheel Drive</td>\n",
       "      <td>4</td>\n",
       "      <td>€186,336</td>\n",
       "      <td>£138,830</td>\n",
       "    </tr>\n",
       "    <tr>\n",
       "      <th>...</th>\n",
       "      <td>...</td>\n",
       "      <td>...</td>\n",
       "      <td>...</td>\n",
       "      <td>...</td>\n",
       "      <td>...</td>\n",
       "      <td>...</td>\n",
       "      <td>...</td>\n",
       "      <td>...</td>\n",
       "      <td>...</td>\n",
       "      <td>...</td>\n",
       "      <td>...</td>\n",
       "    </tr>\n",
       "    <tr>\n",
       "      <th>175</th>\n",
       "      <td>MG Marvel R</td>\n",
       "      <td>Battery Electric Vehicle |       65 kWh</td>\n",
       "      <td>7.9 sec</td>\n",
       "      <td>200 km/h</td>\n",
       "      <td>340 km</td>\n",
       "      <td>191 Wh/km</td>\n",
       "      <td>390 km/h</td>\n",
       "      <td>Rear Wheel Drive</td>\n",
       "      <td>5</td>\n",
       "      <td>€40,000</td>\n",
       "      <td>NaN</td>\n",
       "    </tr>\n",
       "    <tr>\n",
       "      <th>176</th>\n",
       "      <td>Tesla Model 3 Long Range Dual Motor</td>\n",
       "      <td>Battery Electric Vehicle |       76 kWh</td>\n",
       "      <td>4.4 sec</td>\n",
       "      <td>233 km/h</td>\n",
       "      <td>490 km</td>\n",
       "      <td>155 Wh/km</td>\n",
       "      <td>820 km/h</td>\n",
       "      <td>All Wheel Drive</td>\n",
       "      <td>5</td>\n",
       "      <td>€53,560</td>\n",
       "      <td>NaN</td>\n",
       "    </tr>\n",
       "    <tr>\n",
       "      <th>177</th>\n",
       "      <td>MG MG5 EV Long Range</td>\n",
       "      <td>Battery Electric Vehicle |       57 kWh</td>\n",
       "      <td>7.7 sec</td>\n",
       "      <td>185 km/h</td>\n",
       "      <td>340 km</td>\n",
       "      <td>168 Wh/km</td>\n",
       "      <td>340 km/h</td>\n",
       "      <td>Front Wheel Drive</td>\n",
       "      <td>5</td>\n",
       "      <td>NaN</td>\n",
       "      <td>£26,495</td>\n",
       "    </tr>\n",
       "    <tr>\n",
       "      <th>178</th>\n",
       "      <td>Audi Q4 e-tron 45 quattro</td>\n",
       "      <td>Battery Electric Vehicle |       76.6 kWh</td>\n",
       "      <td>6.9 sec</td>\n",
       "      <td>180 km/h</td>\n",
       "      <td>385 km</td>\n",
       "      <td>199 Wh/km</td>\n",
       "      <td>470 km/h</td>\n",
       "      <td>All Wheel Drive</td>\n",
       "      <td>5</td>\n",
       "      <td>€50,900</td>\n",
       "      <td>NaN</td>\n",
       "    </tr>\n",
       "    <tr>\n",
       "      <th>179</th>\n",
       "      <td>Audi Q4 Sportback e-tron 40</td>\n",
       "      <td>Battery Electric Vehicle |       76.6 kWh</td>\n",
       "      <td>8.5 sec</td>\n",
       "      <td>160 km/h</td>\n",
       "      <td>425 km</td>\n",
       "      <td>180 Wh/km</td>\n",
       "      <td>520 km/h</td>\n",
       "      <td>Rear Wheel Drive</td>\n",
       "      <td>5</td>\n",
       "      <td>€49,500</td>\n",
       "      <td>NaN</td>\n",
       "    </tr>\n",
       "  </tbody>\n",
       "</table>\n",
       "<p>180 rows × 11 columns</p>\n",
       "</div>"
      ],
      "text/plain": [
       "                                    Name  \\\n",
       "0                         Opel Ampera-e    \n",
       "1              Renault Kangoo Maxi ZE 33   \n",
       "2                           Nissan Leaf    \n",
       "3       Audi e-tron Sportback 55 quattro   \n",
       "4                 Porsche Taycan Turbo S   \n",
       "..                                   ...   \n",
       "175                         MG Marvel R    \n",
       "176  Tesla Model 3 Long Range Dual Motor   \n",
       "177                 MG MG5 EV Long Range   \n",
       "178            Audi Q4 e-tron 45 quattro   \n",
       "179          Audi Q4 Sportback e-tron 40   \n",
       "\n",
       "                                      Subtitle Acceleration  TopSpeed   Range  \\\n",
       "0     Battery Electric Vehicle |       58 kWh       7.3 sec  150 km/h  335 km   \n",
       "1     Battery Electric Vehicle |       31 kWh      22.4 sec  130 km/h  160 km   \n",
       "2     Battery Electric Vehicle |       36 kWh       7.9 sec  144 km/h  220 km   \n",
       "3    Battery Electric Vehicle |       86.5 kWh      5.7 sec  200 km/h  375 km   \n",
       "4    Battery Electric Vehicle |       83.7 kWh      2.8 sec  260 km/h  390 km   \n",
       "..                                         ...          ...       ...     ...   \n",
       "175   Battery Electric Vehicle |       65 kWh       7.9 sec  200 km/h  340 km   \n",
       "176   Battery Electric Vehicle |       76 kWh       4.4 sec  233 km/h  490 km   \n",
       "177   Battery Electric Vehicle |       57 kWh       7.7 sec  185 km/h  340 km   \n",
       "178  Battery Electric Vehicle |       76.6 kWh      6.9 sec  180 km/h  385 km   \n",
       "179  Battery Electric Vehicle |       76.6 kWh      8.5 sec  160 km/h  425 km   \n",
       "\n",
       "    Efficiency FastChargeSpeed              Drive  NumberofSeats  \\\n",
       "0    173 Wh/km        210 km/h  Front Wheel Drive              5   \n",
       "1    194 Wh/km               -  Front Wheel Drive              5   \n",
       "2    164 Wh/km        230 km/h  Front Wheel Drive              5   \n",
       "3    231 Wh/km        600 km/h    All Wheel Drive              5   \n",
       "4    215 Wh/km        860 km/h    All Wheel Drive              4   \n",
       "..         ...             ...                ...            ...   \n",
       "175  191 Wh/km        390 km/h   Rear Wheel Drive              5   \n",
       "176  155 Wh/km        820 km/h    All Wheel Drive              5   \n",
       "177  168 Wh/km        340 km/h  Front Wheel Drive              5   \n",
       "178  199 Wh/km        470 km/h    All Wheel Drive              5   \n",
       "179  180 Wh/km        520 km/h   Rear Wheel Drive              5   \n",
       "\n",
       "    PriceinGermany PriceinUK  \n",
       "0          €42,990       NaN  \n",
       "1              NaN   £31,680  \n",
       "2          €29,990   £25,995  \n",
       "3              NaN   £79,900  \n",
       "4         €186,336  £138,830  \n",
       "..             ...       ...  \n",
       "175        €40,000       NaN  \n",
       "176        €53,560       NaN  \n",
       "177            NaN   £26,495  \n",
       "178        €50,900       NaN  \n",
       "179        €49,500       NaN  \n",
       "\n",
       "[180 rows x 11 columns]"
      ]
     },
     "execution_count": 2,
     "metadata": {},
     "output_type": "execute_result"
    }
   ],
   "source": [
    "df1= pd.read_csv(r\"C:\\Users\\Aney\\Downloads\\Cheapestelectriccars-EVDatabase.csv\")\n",
    "df1"
   ]
  },
  {
   "cell_type": "code",
   "execution_count": 3,
   "id": "85ded680",
   "metadata": {},
   "outputs": [
    {
     "name": "stdout",
     "output_type": "stream",
     "text": [
      "<class 'pandas.core.frame.DataFrame'>\n",
      "RangeIndex: 180 entries, 0 to 179\n",
      "Data columns (total 11 columns):\n",
      " #   Column           Non-Null Count  Dtype \n",
      "---  ------           --------------  ----- \n",
      " 0   Name             180 non-null    object\n",
      " 1   Subtitle         180 non-null    object\n",
      " 2   Acceleration     180 non-null    object\n",
      " 3   TopSpeed         180 non-null    object\n",
      " 4   Range            180 non-null    object\n",
      " 5   Efficiency       180 non-null    object\n",
      " 6   FastChargeSpeed  180 non-null    object\n",
      " 7   Drive            180 non-null    object\n",
      " 8   NumberofSeats    180 non-null    int64 \n",
      " 9   PriceinGermany   168 non-null    object\n",
      " 10  PriceinUK        136 non-null    object\n",
      "dtypes: int64(1), object(10)\n",
      "memory usage: 15.6+ KB\n"
     ]
    }
   ],
   "source": [
    "df1.info()"
   ]
  },
  {
   "cell_type": "markdown",
   "id": "fb0d3c50",
   "metadata": {},
   "source": []
  },
  {
   "cell_type": "markdown",
   "id": "9d5706a6",
   "metadata": {},
   "source": [
    "### Exploratory Data Analysis for Electric Vehicle Price Prediction Data"
   ]
  },
  {
   "cell_type": "markdown",
   "id": "024ff751",
   "metadata": {},
   "source": [
    "# Data Preparation and Data Cleaning"
   ]
  },
  {
   "cell_type": "code",
   "execution_count": 4,
   "id": "e6dfbc0b",
   "metadata": {},
   "outputs": [
    {
     "name": "stdout",
     "output_type": "stream",
     "text": [
      "['Name', 'Subtitle', 'Acceleration', 'TopSpeed', 'Range', 'Efficiency', 'FastChargeSpeed', 'Drive', 'NumberofSeats', 'PriceinGermany', 'PriceinUK']\n"
     ]
    }
   ],
   "source": [
    "print(df1.columns.tolist())"
   ]
  },
  {
   "cell_type": "code",
   "execution_count": 5,
   "id": "bf8f0a3c",
   "metadata": {},
   "outputs": [],
   "source": [
    "#filling empty data with 0\n",
    "df1=df1.fillna('0')"
   ]
  },
  {
   "cell_type": "markdown",
   "id": "9e715b1f",
   "metadata": {},
   "source": [
    "# Data Pre-processing"
   ]
  },
  {
   "cell_type": "code",
   "execution_count": 6,
   "id": "c67ebf36",
   "metadata": {},
   "outputs": [],
   "source": [
    "df1['Manufacturer'] = df1.Name.str.split(' ', 1, expand=True)[0]"
   ]
  },
  {
   "cell_type": "code",
   "execution_count": 7,
   "id": "2da0494d",
   "metadata": {},
   "outputs": [],
   "source": [
    "#cleaning the data\n",
    "#removing currency sign\n",
    "PriceinUK=[]\n",
    "for item in df1['PriceinUK']:\n",
    "    PriceinUK+=[int(item.replace('£','').replace(',',''))]\n",
    "df1['PriceinUK']=PriceinUK"
   ]
  },
  {
   "cell_type": "markdown",
   "id": "dc995d44",
   "metadata": {},
   "source": [
    "In 3rd line we use `.replace` 2 times as we want to remove the '£' sign as well as ',' if any\n",
    "\n",
    "AND then we are converting the whole value from string to int"
   ]
  },
  {
   "cell_type": "markdown",
   "id": "20bff6da",
   "metadata": {},
   "source": [
    "### Here, we removed the pound symbol, next we will do the same for Euros."
   ]
  },
  {
   "cell_type": "code",
   "execution_count": 8,
   "id": "b239f8d0",
   "metadata": {},
   "outputs": [],
   "source": [
    "PriceinGermany=[]\n",
    "for item in df1['PriceinGermany']:\n",
    "    PriceinGermany+=[int(item.replace('€','').replace(',',''))]\n",
    "df1['PriceinGermany']=PriceinGermany"
   ]
  },
  {
   "cell_type": "markdown",
   "id": "92796f8c",
   "metadata": {},
   "source": [
    "In 3rd line we use `.replace` 2 times as we want to remove the '€' sign as well as ',' if any\n",
    "\n",
    "AND then we are converting the whole value from string to int"
   ]
  },
  {
   "cell_type": "markdown",
   "id": "341df2c1",
   "metadata": {},
   "source": [
    "### Now, we will prepare the data for Fast Charging Speed and other attributes"
   ]
  },
  {
   "cell_type": "code",
   "execution_count": 9,
   "id": "014774d3",
   "metadata": {},
   "outputs": [],
   "source": [
    "FastChargeSpeed=[]\n",
    "for item in df1['FastChargeSpeed']:\n",
    "    FastChargeSpeed+=[int(item.replace(' km/h','').replace('-','0'))]\n",
    "df1['FastChargeSpeed']=FastChargeSpeed"
   ]
  },
  {
   "cell_type": "code",
   "execution_count": 10,
   "id": "08f6d346",
   "metadata": {},
   "outputs": [],
   "source": [
    "Efficiency=[]\n",
    "for item in df1['Efficiency']:\n",
    "    Efficiency+=[int(item.replace(' Wh/km',''))]\n",
    "df1['Efficiency']=Efficiency"
   ]
  },
  {
   "cell_type": "code",
   "execution_count": 11,
   "id": "f8fea559",
   "metadata": {},
   "outputs": [],
   "source": [
    "Range=[]\n",
    "for item in df1['Range']:\n",
    "    Range+=[int(item.replace(' km',''))]\n",
    "df1['Range']=Range"
   ]
  },
  {
   "cell_type": "code",
   "execution_count": 12,
   "id": "bf8b985a",
   "metadata": {},
   "outputs": [],
   "source": [
    "TopSpeed=[]\n",
    "for item in df1['TopSpeed']:\n",
    "    TopSpeed+=[int(item.replace(' km/h',''))]\n",
    "df1['TopSpeed']=TopSpeed"
   ]
  },
  {
   "cell_type": "code",
   "execution_count": 13,
   "id": "5a1a1d3e",
   "metadata": {},
   "outputs": [],
   "source": [
    "Acceleration=[]\n",
    "for item in df1['Acceleration']:\n",
    "    Acceleration+=[float(item.replace(' sec',''))]\n",
    "df1['Acceleration']=Acceleration"
   ]
  },
  {
   "cell_type": "code",
   "execution_count": 14,
   "id": "1729f9cb",
   "metadata": {},
   "outputs": [],
   "source": [
    "Subtitle=[]\n",
    "for item in df1['Subtitle']:\n",
    "    Subtitle+=[float(item.replace('Battery Electric Vehicle | ','').replace(' kWh','').replace('      ',''))]\n",
    "df1['Subtitle']=Subtitle"
   ]
  },
  {
   "cell_type": "code",
   "execution_count": 15,
   "id": "6f06c0de",
   "metadata": {},
   "outputs": [
    {
     "data": {
      "text/html": [
       "<div>\n",
       "<style scoped>\n",
       "    .dataframe tbody tr th:only-of-type {\n",
       "        vertical-align: middle;\n",
       "    }\n",
       "\n",
       "    .dataframe tbody tr th {\n",
       "        vertical-align: top;\n",
       "    }\n",
       "\n",
       "    .dataframe thead th {\n",
       "        text-align: right;\n",
       "    }\n",
       "</style>\n",
       "<table border=\"1\" class=\"dataframe\">\n",
       "  <thead>\n",
       "    <tr style=\"text-align: right;\">\n",
       "      <th></th>\n",
       "      <th>Name</th>\n",
       "      <th>KWH</th>\n",
       "      <th>Acceleration</th>\n",
       "      <th>TopSpeed</th>\n",
       "      <th>Range</th>\n",
       "      <th>Efficiency</th>\n",
       "      <th>FastChargeSpeed</th>\n",
       "      <th>Drive</th>\n",
       "      <th>NumberofSeats</th>\n",
       "      <th>PriceinGermany</th>\n",
       "      <th>PriceinUK</th>\n",
       "      <th>Manufacturer</th>\n",
       "    </tr>\n",
       "  </thead>\n",
       "  <tbody>\n",
       "    <tr>\n",
       "      <th>0</th>\n",
       "      <td>Opel Ampera-e</td>\n",
       "      <td>58.0</td>\n",
       "      <td>7.3</td>\n",
       "      <td>150</td>\n",
       "      <td>335</td>\n",
       "      <td>173</td>\n",
       "      <td>210</td>\n",
       "      <td>Front Wheel Drive</td>\n",
       "      <td>5</td>\n",
       "      <td>42990</td>\n",
       "      <td>0</td>\n",
       "      <td>Opel</td>\n",
       "    </tr>\n",
       "    <tr>\n",
       "      <th>1</th>\n",
       "      <td>Renault Kangoo Maxi ZE 33</td>\n",
       "      <td>31.0</td>\n",
       "      <td>22.4</td>\n",
       "      <td>130</td>\n",
       "      <td>160</td>\n",
       "      <td>194</td>\n",
       "      <td>0</td>\n",
       "      <td>Front Wheel Drive</td>\n",
       "      <td>5</td>\n",
       "      <td>0</td>\n",
       "      <td>31680</td>\n",
       "      <td>Renault</td>\n",
       "    </tr>\n",
       "    <tr>\n",
       "      <th>2</th>\n",
       "      <td>Nissan Leaf</td>\n",
       "      <td>36.0</td>\n",
       "      <td>7.9</td>\n",
       "      <td>144</td>\n",
       "      <td>220</td>\n",
       "      <td>164</td>\n",
       "      <td>230</td>\n",
       "      <td>Front Wheel Drive</td>\n",
       "      <td>5</td>\n",
       "      <td>29990</td>\n",
       "      <td>25995</td>\n",
       "      <td>Nissan</td>\n",
       "    </tr>\n",
       "    <tr>\n",
       "      <th>3</th>\n",
       "      <td>Audi e-tron Sportback 55 quattro</td>\n",
       "      <td>86.5</td>\n",
       "      <td>5.7</td>\n",
       "      <td>200</td>\n",
       "      <td>375</td>\n",
       "      <td>231</td>\n",
       "      <td>600</td>\n",
       "      <td>All Wheel Drive</td>\n",
       "      <td>5</td>\n",
       "      <td>0</td>\n",
       "      <td>79900</td>\n",
       "      <td>Audi</td>\n",
       "    </tr>\n",
       "    <tr>\n",
       "      <th>4</th>\n",
       "      <td>Porsche Taycan Turbo S</td>\n",
       "      <td>83.7</td>\n",
       "      <td>2.8</td>\n",
       "      <td>260</td>\n",
       "      <td>390</td>\n",
       "      <td>215</td>\n",
       "      <td>860</td>\n",
       "      <td>All Wheel Drive</td>\n",
       "      <td>4</td>\n",
       "      <td>186336</td>\n",
       "      <td>138830</td>\n",
       "      <td>Porsche</td>\n",
       "    </tr>\n",
       "  </tbody>\n",
       "</table>\n",
       "</div>"
      ],
      "text/plain": [
       "                               Name   KWH  Acceleration  TopSpeed  Range  \\\n",
       "0                    Opel Ampera-e   58.0           7.3       150    335   \n",
       "1         Renault Kangoo Maxi ZE 33  31.0          22.4       130    160   \n",
       "2                      Nissan Leaf   36.0           7.9       144    220   \n",
       "3  Audi e-tron Sportback 55 quattro  86.5           5.7       200    375   \n",
       "4            Porsche Taycan Turbo S  83.7           2.8       260    390   \n",
       "\n",
       "   Efficiency  FastChargeSpeed              Drive  NumberofSeats  \\\n",
       "0         173              210  Front Wheel Drive              5   \n",
       "1         194                0  Front Wheel Drive              5   \n",
       "2         164              230  Front Wheel Drive              5   \n",
       "3         231              600    All Wheel Drive              5   \n",
       "4         215              860    All Wheel Drive              4   \n",
       "\n",
       "   PriceinGermany  PriceinUK Manufacturer  \n",
       "0           42990          0         Opel  \n",
       "1               0      31680      Renault  \n",
       "2           29990      25995       Nissan  \n",
       "3               0      79900         Audi  \n",
       "4          186336     138830      Porsche  "
      ]
     },
     "execution_count": 15,
     "metadata": {},
     "output_type": "execute_result"
    }
   ],
   "source": [
    "df1= df1.rename(columns = {'Subtitle':'KWH'})\n",
    "df1.head()"
   ]
  },
  {
   "cell_type": "code",
   "execution_count": 16,
   "id": "e9a78595",
   "metadata": {},
   "outputs": [
    {
     "name": "stdout",
     "output_type": "stream",
     "text": [
      "<class 'pandas.core.frame.DataFrame'>\n",
      "RangeIndex: 180 entries, 0 to 179\n",
      "Data columns (total 12 columns):\n",
      " #   Column           Non-Null Count  Dtype  \n",
      "---  ------           --------------  -----  \n",
      " 0   Name             180 non-null    object \n",
      " 1   KWH              180 non-null    float64\n",
      " 2   Acceleration     180 non-null    float64\n",
      " 3   TopSpeed         180 non-null    int64  \n",
      " 4   Range            180 non-null    int64  \n",
      " 5   Efficiency       180 non-null    int64  \n",
      " 6   FastChargeSpeed  180 non-null    int64  \n",
      " 7   Drive            180 non-null    object \n",
      " 8   NumberofSeats    180 non-null    int64  \n",
      " 9   PriceinGermany   180 non-null    int64  \n",
      " 10  PriceinUK        180 non-null    int64  \n",
      " 11  Manufacturer     180 non-null    object \n",
      "dtypes: float64(2), int64(7), object(3)\n",
      "memory usage: 17.0+ KB\n"
     ]
    }
   ],
   "source": [
    "df1.info()"
   ]
  },
  {
   "cell_type": "markdown",
   "id": "c8fe0d1a",
   "metadata": {},
   "source": [
    "One thing to be pointed is that many data points are missing. Let us take only the prices in UK Pound.\n",
    "\n",
    "Considering 1 Euro = 0.85 Pound\n"
   ]
  },
  {
   "cell_type": "code",
   "execution_count": 17,
   "id": "e976a83f",
   "metadata": {
    "scrolled": true
   },
   "outputs": [
    {
     "name": "stdout",
     "output_type": "stream",
     "text": [
      "Empty Values: 44\n"
     ]
    }
   ],
   "source": [
    "c=0\n",
    "for i in range(0, len(df1[\"PriceinUK\"])):\n",
    "    if (df1[\"PriceinUK\"][i]==0):\n",
    "        c+=1\n",
    "print('Empty Values:',c)       "
   ]
  },
  {
   "cell_type": "code",
   "execution_count": 18,
   "id": "c00ec1b7",
   "metadata": {},
   "outputs": [],
   "source": [
    "pd.options.mode.chained_assignment = None"
   ]
  },
  {
   "cell_type": "code",
   "execution_count": 19,
   "id": "245f1acc",
   "metadata": {},
   "outputs": [],
   "source": [
    "for i in range(0, len(df1[\"PriceinUK\"])):\n",
    "    if (df1[\"PriceinUK\"][i]==0):\n",
    "        val=df1[\"PriceinGermany\"][i]*0.85\n",
    "        df1[\"PriceinUK\"][i]=val\n",
    "        "
   ]
  },
  {
   "cell_type": "markdown",
   "id": "3ac26945",
   "metadata": {},
   "source": [
    "# Data Understanding and Visualization"
   ]
  },
  {
   "cell_type": "code",
   "execution_count": 20,
   "id": "39a6cf3f",
   "metadata": {},
   "outputs": [
    {
     "data": {
      "text/html": [
       "<div>\n",
       "<style scoped>\n",
       "    .dataframe tbody tr th:only-of-type {\n",
       "        vertical-align: middle;\n",
       "    }\n",
       "\n",
       "    .dataframe tbody tr th {\n",
       "        vertical-align: top;\n",
       "    }\n",
       "\n",
       "    .dataframe thead th {\n",
       "        text-align: right;\n",
       "    }\n",
       "</style>\n",
       "<table border=\"1\" class=\"dataframe\">\n",
       "  <thead>\n",
       "    <tr style=\"text-align: right;\">\n",
       "      <th></th>\n",
       "      <th>KWH</th>\n",
       "      <th>Acceleration</th>\n",
       "      <th>TopSpeed</th>\n",
       "      <th>Range</th>\n",
       "      <th>Efficiency</th>\n",
       "      <th>FastChargeSpeed</th>\n",
       "      <th>NumberofSeats</th>\n",
       "      <th>PriceinGermany</th>\n",
       "      <th>PriceinUK</th>\n",
       "    </tr>\n",
       "  </thead>\n",
       "  <tbody>\n",
       "    <tr>\n",
       "      <th>KWH</th>\n",
       "      <td>1.000000</td>\n",
       "      <td>-0.622985</td>\n",
       "      <td>0.691415</td>\n",
       "      <td>0.890092</td>\n",
       "      <td>0.356426</td>\n",
       "      <td>0.659743</td>\n",
       "      <td>0.134447</td>\n",
       "      <td>0.598084</td>\n",
       "      <td>0.707831</td>\n",
       "    </tr>\n",
       "    <tr>\n",
       "      <th>Acceleration</th>\n",
       "      <td>-0.622985</td>\n",
       "      <td>1.000000</td>\n",
       "      <td>-0.821041</td>\n",
       "      <td>-0.712077</td>\n",
       "      <td>0.140984</td>\n",
       "      <td>-0.741670</td>\n",
       "      <td>0.318302</td>\n",
       "      <td>-0.501519</td>\n",
       "      <td>-0.571238</td>\n",
       "    </tr>\n",
       "    <tr>\n",
       "      <th>TopSpeed</th>\n",
       "      <td>0.691415</td>\n",
       "      <td>-0.821041</td>\n",
       "      <td>1.000000</td>\n",
       "      <td>0.760319</td>\n",
       "      <td>-0.047383</td>\n",
       "      <td>0.773190</td>\n",
       "      <td>-0.242567</td>\n",
       "      <td>0.678865</td>\n",
       "      <td>0.773806</td>\n",
       "    </tr>\n",
       "    <tr>\n",
       "      <th>Range</th>\n",
       "      <td>0.890092</td>\n",
       "      <td>-0.712077</td>\n",
       "      <td>0.760319</td>\n",
       "      <td>1.000000</td>\n",
       "      <td>-0.072273</td>\n",
       "      <td>0.767574</td>\n",
       "      <td>-0.068851</td>\n",
       "      <td>0.569037</td>\n",
       "      <td>0.675257</td>\n",
       "    </tr>\n",
       "    <tr>\n",
       "      <th>Efficiency</th>\n",
       "      <td>0.356426</td>\n",
       "      <td>0.140984</td>\n",
       "      <td>-0.047383</td>\n",
       "      <td>-0.072273</td>\n",
       "      <td>1.000000</td>\n",
       "      <td>-0.059914</td>\n",
       "      <td>0.602469</td>\n",
       "      <td>0.239221</td>\n",
       "      <td>0.270454</td>\n",
       "    </tr>\n",
       "    <tr>\n",
       "      <th>FastChargeSpeed</th>\n",
       "      <td>0.659743</td>\n",
       "      <td>-0.741670</td>\n",
       "      <td>0.773190</td>\n",
       "      <td>0.767574</td>\n",
       "      <td>-0.059914</td>\n",
       "      <td>1.000000</td>\n",
       "      <td>-0.119644</td>\n",
       "      <td>0.595609</td>\n",
       "      <td>0.649172</td>\n",
       "    </tr>\n",
       "    <tr>\n",
       "      <th>NumberofSeats</th>\n",
       "      <td>0.134447</td>\n",
       "      <td>0.318302</td>\n",
       "      <td>-0.242567</td>\n",
       "      <td>-0.068851</td>\n",
       "      <td>0.602469</td>\n",
       "      <td>-0.119644</td>\n",
       "      <td>1.000000</td>\n",
       "      <td>-0.012455</td>\n",
       "      <td>-0.007434</td>\n",
       "    </tr>\n",
       "    <tr>\n",
       "      <th>PriceinGermany</th>\n",
       "      <td>0.598084</td>\n",
       "      <td>-0.501519</td>\n",
       "      <td>0.678865</td>\n",
       "      <td>0.569037</td>\n",
       "      <td>0.239221</td>\n",
       "      <td>0.595609</td>\n",
       "      <td>-0.012455</td>\n",
       "      <td>1.000000</td>\n",
       "      <td>0.915390</td>\n",
       "    </tr>\n",
       "    <tr>\n",
       "      <th>PriceinUK</th>\n",
       "      <td>0.707831</td>\n",
       "      <td>-0.571238</td>\n",
       "      <td>0.773806</td>\n",
       "      <td>0.675257</td>\n",
       "      <td>0.270454</td>\n",
       "      <td>0.649172</td>\n",
       "      <td>-0.007434</td>\n",
       "      <td>0.915390</td>\n",
       "      <td>1.000000</td>\n",
       "    </tr>\n",
       "  </tbody>\n",
       "</table>\n",
       "</div>"
      ],
      "text/plain": [
       "                      KWH  Acceleration  TopSpeed     Range  Efficiency  \\\n",
       "KWH              1.000000     -0.622985  0.691415  0.890092    0.356426   \n",
       "Acceleration    -0.622985      1.000000 -0.821041 -0.712077    0.140984   \n",
       "TopSpeed         0.691415     -0.821041  1.000000  0.760319   -0.047383   \n",
       "Range            0.890092     -0.712077  0.760319  1.000000   -0.072273   \n",
       "Efficiency       0.356426      0.140984 -0.047383 -0.072273    1.000000   \n",
       "FastChargeSpeed  0.659743     -0.741670  0.773190  0.767574   -0.059914   \n",
       "NumberofSeats    0.134447      0.318302 -0.242567 -0.068851    0.602469   \n",
       "PriceinGermany   0.598084     -0.501519  0.678865  0.569037    0.239221   \n",
       "PriceinUK        0.707831     -0.571238  0.773806  0.675257    0.270454   \n",
       "\n",
       "                 FastChargeSpeed  NumberofSeats  PriceinGermany  PriceinUK  \n",
       "KWH                     0.659743       0.134447        0.598084   0.707831  \n",
       "Acceleration           -0.741670       0.318302       -0.501519  -0.571238  \n",
       "TopSpeed                0.773190      -0.242567        0.678865   0.773806  \n",
       "Range                   0.767574      -0.068851        0.569037   0.675257  \n",
       "Efficiency             -0.059914       0.602469        0.239221   0.270454  \n",
       "FastChargeSpeed         1.000000      -0.119644        0.595609   0.649172  \n",
       "NumberofSeats          -0.119644       1.000000       -0.012455  -0.007434  \n",
       "PriceinGermany          0.595609      -0.012455        1.000000   0.915390  \n",
       "PriceinUK               0.649172      -0.007434        0.915390   1.000000  "
      ]
     },
     "execution_count": 20,
     "metadata": {},
     "output_type": "execute_result"
    }
   ],
   "source": [
    "df1.corr()"
   ]
  },
  {
   "cell_type": "markdown",
   "id": "eed0682e",
   "metadata": {},
   "source": [
    " `df1.corr()` is used to find the pairwise correlation of all columns in the dataframe."
   ]
  },
  {
   "cell_type": "code",
   "execution_count": 21,
   "id": "31544b66",
   "metadata": {},
   "outputs": [
    {
     "data": {
      "image/png": "[encoded data removed]",
      "text/plain": [
       "<Figure size 576x432 with 2 Axes>"
      ]
     },
     "metadata": {
      "needs_background": "light"
     },
     "output_type": "display_data"
    }
   ],
   "source": [
    "plt.figure(figsize=(8,6))\n",
    "sns.heatmap(df1.corr(), annot=True,cmap='Blues')\n",
    "plt.show()"
   ]
  },
  {
   "cell_type": "markdown",
   "id": "cf462484",
   "metadata": {},
   "source": [
    "We get many insights about the dataset by heatmap plotting  \n",
    "such as :\n",
    "there is high relation between parameters like `FastChargeSpeed` and `Range`"
   ]
  },
  {
   "cell_type": "code",
   "execution_count": 22,
   "id": "f774f2ed",
   "metadata": {},
   "outputs": [
    {
     "data": {
      "image/png": "[encoded data removed]",
      "text/plain": [
       "<Figure size 432x288 with 1 Axes>"
      ]
     },
     "metadata": {
      "needs_background": "light"
     },
     "output_type": "display_data"
    }
   ],
   "source": [
    "sns.countplot(x = 'Drive', data = df1)\n",
    "plt.show()"
   ]
  },
  {
   "cell_type": "markdown",
   "id": "90c4f0b8",
   "metadata": {},
   "source": [
    "We get the idea that `Front Wheel drive` type car is the most popular type amongst others"
   ]
  },
  {
   "cell_type": "code",
   "execution_count": 23,
   "id": "b2bf3d22",
   "metadata": {},
   "outputs": [
    {
     "data": {
      "image/png": "[encoded data removed]",
      "text/plain": [
       "<Figure size 432x288 with 1 Axes>"
      ]
     },
     "metadata": {
      "needs_background": "light"
     },
     "output_type": "display_data"
    }
   ],
   "source": [
    "sns.countplot(x = 'NumberofSeats', data = df1)\n",
    "plt.show()"
   ]
  },
  {
   "cell_type": "markdown",
   "id": "eb142634",
   "metadata": {},
   "source": [
    "This plot gives us the idea that the Most of the EV cars are targeted to the family type cars as it is having 5 seater to be manufactured the most. "
   ]
  },
  {
   "cell_type": "code",
   "execution_count": 24,
   "id": "62b2ab05",
   "metadata": {},
   "outputs": [
    {
     "data": {
      "image/png": "[encoded data removed]",
      "text/plain": [
       "<Figure size 576x432 with 1 Axes>"
      ]
     },
     "metadata": {
      "needs_background": "light"
     },
     "output_type": "display_data"
    }
   ],
   "source": [
    "plt.figure(figsize=(8,6))\n",
    "sns.countplot(x = 'NumberofSeats', hue='Drive', data=df1)\n",
    "plt.show()"
   ]
  },
  {
   "cell_type": "markdown",
   "id": "0eab03df",
   "metadata": {},
   "source": [
    "This plot is very insightful as it uses the power of distribution of Number of seats the car has and Each drive type of car respectively.\n",
    "\n",
    "As we can see nearly all cars(having different number of seats)mainly focus on Front wheel and All wheel drive\n",
    "\n",
    "\n",
    "We get the idea that 6 seater mainly focus on Front Wheel drive which may suggest that  as more power is needed to drive the car.\n",
    "This can be explained by a most basic physics concept that \" Pulling is easier than pushing. \" "
   ]
  },
  {
   "cell_type": "code",
   "execution_count": 25,
   "id": "9d71d4dc",
   "metadata": {},
   "outputs": [
    {
     "data": {
      "image/png": "[encoded data removed]",
      "text/plain": [
       "<Figure size 1296x720 with 1 Axes>"
      ]
     },
     "metadata": {
      "needs_background": "light"
     },
     "output_type": "display_data"
    }
   ],
   "source": [
    "plt.figure(figsize=(18,10))\n",
    "sns.countplot(y = 'Manufacturer', data = df1)\n",
    "plt.show()"
   ]
  },
  {
   "cell_type": "markdown",
   "id": "9e93b260",
   "metadata": {},
   "source": [
    "### We can see that Audi and Tesla have the most types of electric vehicles."
   ]
  },
  {
   "cell_type": "markdown",
   "id": "0b0e3c03",
   "metadata": {},
   "source": [
    "As we can see here that Audi and Tesla are the leading companies that manufacture the EV cars while others are struggling to give this much output as compared to other manufacturers.\n",
    "We may say that there is something that is helping these companies(Audi,Tesla) to maintain suppremacy in EV car production output.\n",
    "These companies may have:\n",
    "\n",
    "   * Better production chain\n",
    "   * Good and effective manufacturation system\n",
    "   * Strong infrastructure\n",
    "   * Proper capital management\n",
    "   * Proper material management"
   ]
  },
  {
   "cell_type": "code",
   "execution_count": 26,
   "id": "1651d11e",
   "metadata": {},
   "outputs": [
    {
     "data": {
      "image/png": "[encoded data removed]",
      "text/plain": [
       "<Figure size 557.5x432 with 1 Axes>"
      ]
     },
     "metadata": {
      "needs_background": "light"
     },
     "output_type": "display_data"
    }
   ],
   "source": [
    "sns.relplot(x=\"KWH\", y=\"Acceleration\", height=6,hue=\"Drive\",data=df1)\n",
    "plt.show()"
   ]
  },
  {
   "cell_type": "code",
   "execution_count": 27,
   "id": "4a9c720e",
   "metadata": {},
   "outputs": [
    {
     "data": {
      "image/png": "[encoded data removed]",
      "text/plain": [
       "<Figure size 557.5x432 with 1 Axes>"
      ]
     },
     "metadata": {
      "needs_background": "light"
     },
     "output_type": "display_data"
    }
   ],
   "source": [
    "sns.relplot(x=\"TopSpeed\", y=\"Range\",height=6, hue=\"Drive\",data=df1)\n",
    "plt.show()"
   ]
  },
  {
   "cell_type": "code",
   "execution_count": 28,
   "id": "4ad9a43c",
   "metadata": {},
   "outputs": [
    {
     "data": {
      "image/png": "[encoded data removed]",
      "text/plain": [
       "<Figure size 517x432 with 1 Axes>"
      ]
     },
     "metadata": {
      "needs_background": "light"
     },
     "output_type": "display_data"
    }
   ],
   "source": [
    "sns.relplot(x=\"KWH\", y=\"Acceleration\", size=\"NumberofSeats\", height=6,sizes=(15, 100),data=df1)\n",
    "plt.show()"
   ]
  },
  {
   "cell_type": "code",
   "execution_count": 29,
   "id": "e75ae0a8",
   "metadata": {},
   "outputs": [
    {
     "data": {
      "image/png": "[encoded data removed]",
      "text/plain": [
       "<Figure size 432x432 with 1 Axes>"
      ]
     },
     "metadata": {
      "needs_background": "light"
     },
     "output_type": "display_data"
    }
   ],
   "source": [
    "sns.relplot(x=\"FastChargeSpeed\", y=\"Efficiency\", height=6,data=df1)\n",
    "plt.show()"
   ]
  },
  {
   "cell_type": "markdown",
   "id": "b30c186a",
   "metadata": {},
   "source": [
    "# Data Modeling"
   ]
  },
  {
   "cell_type": "markdown",
   "id": "2b022878",
   "metadata": {},
   "source": [
    "### Machine Learning Model \n",
    "\n",
    "We will predict the price of the vehicle based on all the parameters and data such as\n",
    "    \n",
    "    KWH\n",
    "    Acceleration\n",
    "    TopSpeed\n",
    "    Range\n",
    "    Efficiency \n",
    "    FastChargeSpeed\n",
    "    Drive\n",
    "    NumberofSeats"
   ]
  },
  {
   "cell_type": "code",
   "execution_count": 30,
   "id": "66b10299",
   "metadata": {},
   "outputs": [
    {
     "data": {
      "text/html": [
       "<div>\n",
       "<style scoped>\n",
       "    .dataframe tbody tr th:only-of-type {\n",
       "        vertical-align: middle;\n",
       "    }\n",
       "\n",
       "    .dataframe tbody tr th {\n",
       "        vertical-align: top;\n",
       "    }\n",
       "\n",
       "    .dataframe thead th {\n",
       "        text-align: right;\n",
       "    }\n",
       "</style>\n",
       "<table border=\"1\" class=\"dataframe\">\n",
       "  <thead>\n",
       "    <tr style=\"text-align: right;\">\n",
       "      <th></th>\n",
       "      <th>Name</th>\n",
       "      <th>KWH</th>\n",
       "      <th>Acceleration</th>\n",
       "      <th>TopSpeed</th>\n",
       "      <th>Range</th>\n",
       "      <th>Efficiency</th>\n",
       "      <th>FastChargeSpeed</th>\n",
       "      <th>Drive</th>\n",
       "      <th>NumberofSeats</th>\n",
       "      <th>PriceinGermany</th>\n",
       "      <th>PriceinUK</th>\n",
       "      <th>Manufacturer</th>\n",
       "    </tr>\n",
       "  </thead>\n",
       "  <tbody>\n",
       "    <tr>\n",
       "      <th>0</th>\n",
       "      <td>Opel Ampera-e</td>\n",
       "      <td>58.0</td>\n",
       "      <td>7.3</td>\n",
       "      <td>150</td>\n",
       "      <td>335</td>\n",
       "      <td>173</td>\n",
       "      <td>210</td>\n",
       "      <td>Front Wheel Drive</td>\n",
       "      <td>5</td>\n",
       "      <td>42990</td>\n",
       "      <td>36541</td>\n",
       "      <td>Opel</td>\n",
       "    </tr>\n",
       "    <tr>\n",
       "      <th>1</th>\n",
       "      <td>Renault Kangoo Maxi ZE 33</td>\n",
       "      <td>31.0</td>\n",
       "      <td>22.4</td>\n",
       "      <td>130</td>\n",
       "      <td>160</td>\n",
       "      <td>194</td>\n",
       "      <td>0</td>\n",
       "      <td>Front Wheel Drive</td>\n",
       "      <td>5</td>\n",
       "      <td>0</td>\n",
       "      <td>31680</td>\n",
       "      <td>Renault</td>\n",
       "    </tr>\n",
       "    <tr>\n",
       "      <th>2</th>\n",
       "      <td>Nissan Leaf</td>\n",
       "      <td>36.0</td>\n",
       "      <td>7.9</td>\n",
       "      <td>144</td>\n",
       "      <td>220</td>\n",
       "      <td>164</td>\n",
       "      <td>230</td>\n",
       "      <td>Front Wheel Drive</td>\n",
       "      <td>5</td>\n",
       "      <td>29990</td>\n",
       "      <td>25995</td>\n",
       "      <td>Nissan</td>\n",
       "    </tr>\n",
       "    <tr>\n",
       "      <th>3</th>\n",
       "      <td>Audi e-tron Sportback 55 quattro</td>\n",
       "      <td>86.5</td>\n",
       "      <td>5.7</td>\n",
       "      <td>200</td>\n",
       "      <td>375</td>\n",
       "      <td>231</td>\n",
       "      <td>600</td>\n",
       "      <td>All Wheel Drive</td>\n",
       "      <td>5</td>\n",
       "      <td>0</td>\n",
       "      <td>79900</td>\n",
       "      <td>Audi</td>\n",
       "    </tr>\n",
       "    <tr>\n",
       "      <th>4</th>\n",
       "      <td>Porsche Taycan Turbo S</td>\n",
       "      <td>83.7</td>\n",
       "      <td>2.8</td>\n",
       "      <td>260</td>\n",
       "      <td>390</td>\n",
       "      <td>215</td>\n",
       "      <td>860</td>\n",
       "      <td>All Wheel Drive</td>\n",
       "      <td>4</td>\n",
       "      <td>186336</td>\n",
       "      <td>138830</td>\n",
       "      <td>Porsche</td>\n",
       "    </tr>\n",
       "  </tbody>\n",
       "</table>\n",
       "</div>"
      ],
      "text/plain": [
       "                               Name   KWH  Acceleration  TopSpeed  Range  \\\n",
       "0                    Opel Ampera-e   58.0           7.3       150    335   \n",
       "1         Renault Kangoo Maxi ZE 33  31.0          22.4       130    160   \n",
       "2                      Nissan Leaf   36.0           7.9       144    220   \n",
       "3  Audi e-tron Sportback 55 quattro  86.5           5.7       200    375   \n",
       "4            Porsche Taycan Turbo S  83.7           2.8       260    390   \n",
       "\n",
       "   Efficiency  FastChargeSpeed              Drive  NumberofSeats  \\\n",
       "0         173              210  Front Wheel Drive              5   \n",
       "1         194                0  Front Wheel Drive              5   \n",
       "2         164              230  Front Wheel Drive              5   \n",
       "3         231              600    All Wheel Drive              5   \n",
       "4         215              860    All Wheel Drive              4   \n",
       "\n",
       "   PriceinGermany  PriceinUK Manufacturer  \n",
       "0           42990      36541         Opel  \n",
       "1               0      31680      Renault  \n",
       "2           29990      25995       Nissan  \n",
       "3               0      79900         Audi  \n",
       "4          186336     138830      Porsche  "
      ]
     },
     "execution_count": 30,
     "metadata": {},
     "output_type": "execute_result"
    }
   ],
   "source": [
    "df1.head()"
   ]
  },
  {
   "cell_type": "code",
   "execution_count": 31,
   "id": "0f6dfa65",
   "metadata": {},
   "outputs": [
    {
     "name": "stdout",
     "output_type": "stream",
     "text": [
      "Collecting package metadata (current_repodata.json): ...working... done\n",
      "Solving environment: ...working... done\n",
      "\n",
      "# All requested packages already installed.\n",
      "\n",
      "\n",
      "Note: you may need to restart the kernel to use updated packages.\n"
     ]
    }
   ],
   "source": [
    "conda install -c conda-forge/label/gcc7 category_encoders"
   ]
  },
  {
   "cell_type": "markdown",
   "id": "1b414062",
   "metadata": {},
   "source": [
    "#### Data Transformation"
   ]
  },
  {
   "cell_type": "code",
   "execution_count": 32,
   "id": "ab3206ee",
   "metadata": {},
   "outputs": [
    {
     "data": {
      "text/html": [
       "<div>\n",
       "<style scoped>\n",
       "    .dataframe tbody tr th:only-of-type {\n",
       "        vertical-align: middle;\n",
       "    }\n",
       "\n",
       "    .dataframe tbody tr th {\n",
       "        vertical-align: top;\n",
       "    }\n",
       "\n",
       "    .dataframe thead th {\n",
       "        text-align: right;\n",
       "    }\n",
       "</style>\n",
       "<table border=\"1\" class=\"dataframe\">\n",
       "  <thead>\n",
       "    <tr style=\"text-align: right;\">\n",
       "      <th></th>\n",
       "      <th>Name</th>\n",
       "      <th>KWH</th>\n",
       "      <th>Acceleration</th>\n",
       "      <th>TopSpeed</th>\n",
       "      <th>Range</th>\n",
       "      <th>Efficiency</th>\n",
       "      <th>FastChargeSpeed</th>\n",
       "      <th>NumberofSeats</th>\n",
       "      <th>PriceinGermany</th>\n",
       "      <th>PriceinUK</th>\n",
       "      <th>Manufacturer</th>\n",
       "      <th>Drive</th>\n",
       "    </tr>\n",
       "  </thead>\n",
       "  <tbody>\n",
       "    <tr>\n",
       "      <th>0</th>\n",
       "      <td>Opel Ampera-e</td>\n",
       "      <td>58.0</td>\n",
       "      <td>7.3</td>\n",
       "      <td>150</td>\n",
       "      <td>335</td>\n",
       "      <td>173</td>\n",
       "      <td>210</td>\n",
       "      <td>5</td>\n",
       "      <td>42990</td>\n",
       "      <td>36541</td>\n",
       "      <td>Opel</td>\n",
       "      <td>1</td>\n",
       "    </tr>\n",
       "    <tr>\n",
       "      <th>1</th>\n",
       "      <td>Renault Kangoo Maxi ZE 33</td>\n",
       "      <td>31.0</td>\n",
       "      <td>22.4</td>\n",
       "      <td>130</td>\n",
       "      <td>160</td>\n",
       "      <td>194</td>\n",
       "      <td>0</td>\n",
       "      <td>5</td>\n",
       "      <td>0</td>\n",
       "      <td>31680</td>\n",
       "      <td>Renault</td>\n",
       "      <td>1</td>\n",
       "    </tr>\n",
       "    <tr>\n",
       "      <th>2</th>\n",
       "      <td>Nissan Leaf</td>\n",
       "      <td>36.0</td>\n",
       "      <td>7.9</td>\n",
       "      <td>144</td>\n",
       "      <td>220</td>\n",
       "      <td>164</td>\n",
       "      <td>230</td>\n",
       "      <td>5</td>\n",
       "      <td>29990</td>\n",
       "      <td>25995</td>\n",
       "      <td>Nissan</td>\n",
       "      <td>1</td>\n",
       "    </tr>\n",
       "    <tr>\n",
       "      <th>3</th>\n",
       "      <td>Audi e-tron Sportback 55 quattro</td>\n",
       "      <td>86.5</td>\n",
       "      <td>5.7</td>\n",
       "      <td>200</td>\n",
       "      <td>375</td>\n",
       "      <td>231</td>\n",
       "      <td>600</td>\n",
       "      <td>5</td>\n",
       "      <td>0</td>\n",
       "      <td>79900</td>\n",
       "      <td>Audi</td>\n",
       "      <td>3</td>\n",
       "    </tr>\n",
       "    <tr>\n",
       "      <th>4</th>\n",
       "      <td>Porsche Taycan Turbo S</td>\n",
       "      <td>83.7</td>\n",
       "      <td>2.8</td>\n",
       "      <td>260</td>\n",
       "      <td>390</td>\n",
       "      <td>215</td>\n",
       "      <td>860</td>\n",
       "      <td>4</td>\n",
       "      <td>186336</td>\n",
       "      <td>138830</td>\n",
       "      <td>Porsche</td>\n",
       "      <td>3</td>\n",
       "    </tr>\n",
       "  </tbody>\n",
       "</table>\n",
       "</div>"
      ],
      "text/plain": [
       "                               Name   KWH  Acceleration  TopSpeed  Range  \\\n",
       "0                    Opel Ampera-e   58.0           7.3       150    335   \n",
       "1         Renault Kangoo Maxi ZE 33  31.0          22.4       130    160   \n",
       "2                      Nissan Leaf   36.0           7.9       144    220   \n",
       "3  Audi e-tron Sportback 55 quattro  86.5           5.7       200    375   \n",
       "4            Porsche Taycan Turbo S  83.7           2.8       260    390   \n",
       "\n",
       "   Efficiency  FastChargeSpeed  NumberofSeats  PriceinGermany  PriceinUK  \\\n",
       "0         173              210              5           42990      36541   \n",
       "1         194                0              5               0      31680   \n",
       "2         164              230              5           29990      25995   \n",
       "3         231              600              5               0      79900   \n",
       "4         215              860              4          186336     138830   \n",
       "\n",
       "  Manufacturer  Drive  \n",
       "0         Opel      1  \n",
       "1      Renault      1  \n",
       "2       Nissan      1  \n",
       "3         Audi      3  \n",
       "4      Porsche      3  "
      ]
     },
     "execution_count": 32,
     "metadata": {},
     "output_type": "execute_result"
    }
   ],
   "source": [
    "import category_encoders as ce\n",
    "\n",
    "train_df=df1\n",
    "\n",
    "# create object of Ordinalencoding\n",
    "encoder= ce.OrdinalEncoder(cols=['Drive'],return_df=True,\n",
    "                           mapping=[{'col':'Drive',\n",
    "'mapping':{'Front Wheel Drive':1,'Rear Wheel Drive':2,'All Wheel Drive':3}}])\n",
    "\n",
    "\n",
    "#fit and transform train data \n",
    "df_train = encoder.fit_transform(train_df)#Original data\n",
    "df_train.head()"
   ]
  },
  {
   "cell_type": "code",
   "execution_count": 33,
   "id": "89139ec2",
   "metadata": {},
   "outputs": [
    {
     "name": "stdout",
     "output_type": "stream",
     "text": [
      "<class 'pandas.core.frame.DataFrame'>\n",
      "RangeIndex: 180 entries, 0 to 179\n",
      "Data columns (total 12 columns):\n",
      " #   Column           Non-Null Count  Dtype  \n",
      "---  ------           --------------  -----  \n",
      " 0   Name             180 non-null    object \n",
      " 1   KWH              180 non-null    float64\n",
      " 2   Acceleration     180 non-null    float64\n",
      " 3   TopSpeed         180 non-null    int64  \n",
      " 4   Range            180 non-null    int64  \n",
      " 5   Efficiency       180 non-null    int64  \n",
      " 6   FastChargeSpeed  180 non-null    int64  \n",
      " 7   NumberofSeats    180 non-null    int64  \n",
      " 8   PriceinGermany   180 non-null    int64  \n",
      " 9   PriceinUK        180 non-null    int64  \n",
      " 10  Manufacturer     180 non-null    object \n",
      " 11  Drive            180 non-null    int32  \n",
      "dtypes: float64(2), int32(1), int64(7), object(2)\n",
      "memory usage: 16.3+ KB\n"
     ]
    }
   ],
   "source": [
    "df_train.info()"
   ]
  },
  {
   "cell_type": "code",
   "execution_count": 34,
   "id": "18929144",
   "metadata": {},
   "outputs": [
    {
     "data": {
      "text/plain": [
       "array([[ 58. ,   7.3, 150. , ..., 210. ,   5. ,   1. ],\n",
       "       [ 31. ,  22.4, 130. , ...,   0. ,   5. ,   1. ],\n",
       "       [ 36. ,   7.9, 144. , ..., 230. ,   5. ,   1. ],\n",
       "       ...,\n",
       "       [ 57. ,   7.7, 185. , ..., 340. ,   5. ,   1. ],\n",
       "       [ 76.6,   6.9, 180. , ..., 470. ,   5. ,   3. ],\n",
       "       [ 76.6,   8.5, 160. , ..., 520. ,   5. ,   2. ]])"
      ]
     },
     "execution_count": 34,
     "metadata": {},
     "output_type": "execute_result"
    }
   ],
   "source": [
    "X= df_train.drop(['Name', 'PriceinGermany','PriceinUK','Manufacturer'], axis=1)\n",
    "X=X.values\n",
    "X"
   ]
  },
  {
   "cell_type": "code",
   "execution_count": 35,
   "id": "dcebe52f",
   "metadata": {},
   "outputs": [],
   "source": [
    "y=df_train['PriceinUK'].values"
   ]
  },
  {
   "cell_type": "code",
   "execution_count": 36,
   "id": "bc36698d",
   "metadata": {},
   "outputs": [],
   "source": [
    "from sklearn.model_selection import train_test_split\n",
    "X_train, X_test, y_train, y_test = train_test_split(X, y, test_size=0.33, random_state=7)"
   ]
  },
  {
   "cell_type": "code",
   "execution_count": 37,
   "id": "3410f965",
   "metadata": {},
   "outputs": [],
   "source": [
    "from sklearn.ensemble import RandomForestRegressor\n",
    "# create regressor object\n",
    "regressor = RandomForestRegressor(n_estimators = 300, random_state = 0)"
   ]
  },
  {
   "cell_type": "code",
   "execution_count": 38,
   "id": "5edb6af9",
   "metadata": {},
   "outputs": [
    {
     "data": {
      "text/plain": [
       "RandomForestRegressor(n_estimators=300, random_state=0)"
      ]
     },
     "execution_count": 38,
     "metadata": {},
     "output_type": "execute_result"
    }
   ],
   "source": [
    "# fit the regressor with x and y data\n",
    "regressor.fit(X_train, y_train)"
   ]
  },
  {
   "cell_type": "code",
   "execution_count": 39,
   "id": "a3c846db",
   "metadata": {},
   "outputs": [],
   "source": [
    "y_pred= regressor.predict(X_test)"
   ]
  },
  {
   "cell_type": "code",
   "execution_count": 40,
   "id": "2b30fac2",
   "metadata": {},
   "outputs": [
    {
     "data": {
      "text/plain": [
       "array([ 69905,  30730,  42000,  38845, 110980,  32550,  43248,  28420,\n",
       "        48000,  45145,  28500,  48824,  49750,      0,  57500,  51531,\n",
       "        49465,  45507,  41330,  25491,  45000,  88700,  74739,  59990,\n",
       "        21675,  55577,  29740,  43265,  32150,  87820,      0,  54000,\n",
       "        30500,  90980,  20495,  32121,  54850,  42075,  31500,  63905,\n",
       "        28730,  48490,  45900,  91905,  49495,  60600,      0,  30594,\n",
       "        45000,  87000, 118980,  65720,  30255,  30550,  43900,  41570,\n",
       "        48195,  70665,  29750,  83580], dtype=int64)"
      ]
     },
     "execution_count": 40,
     "metadata": {},
     "output_type": "execute_result"
    }
   ],
   "source": [
    "y_test"
   ]
  },
  {
   "cell_type": "code",
   "execution_count": 41,
   "id": "ae0fc75a",
   "metadata": {},
   "outputs": [
    {
     "data": {
      "text/plain": [
       "array([ 54415.93805556,  31081.55888889,  41373.58333333,  45719.96055556,\n",
       "       114907.79677778,  35321.08222222,  40738.22897222,  32879.78722222,\n",
       "        53663.095     ,  53890.59666667,  31622.88722222,  49583.29804365,\n",
       "        40738.22897222,  35397.42302778,  64017.67027778,  49583.29804365,\n",
       "        46882.61203968,  44247.14666667,  47749.42784127,  26839.50411111,\n",
       "        53405.42333333,  70162.7042381 ,  74862.43888889,  85596.33333333,\n",
       "        31820.25527778,  49581.92776587,  33181.65388889,  50388.85428571,\n",
       "        36651.45777778,  85169.68733333,  26230.90727778,  55832.71611111,\n",
       "        33181.65388889,  80984.141     ,  23681.117     ,  36547.31333333,\n",
       "        49581.92776587,  41660.94666667,  31043.26444444,  70772.16677778,\n",
       "        33251.84244444,  53209.46333333,  54298.20944444,  65152.221     ,\n",
       "        49583.29804365,  58616.53194444,  23090.66111111,  37186.165     ,\n",
       "        48103.39416667,  69828.7117381 , 127283.85      ,  53957.17777778,\n",
       "        32560.63005556,  28492.08596032,  35180.23328175,  41362.68333333,\n",
       "        40738.22897222,  56785.43563889,  31408.03333333,  75585.76333333])"
      ]
     },
     "execution_count": 41,
     "metadata": {},
     "output_type": "execute_result"
    }
   ],
   "source": [
    "y_pred"
   ]
  },
  {
   "cell_type": "markdown",
   "id": "c2b9ecc6",
   "metadata": {},
   "source": [
    "# Evaluation"
   ]
  },
  {
   "cell_type": "markdown",
   "id": "cadcd6e5",
   "metadata": {},
   "source": [
    "### Accuracy Metrics for Predicted Prices of Electric Vehicle"
   ]
  },
  {
   "cell_type": "markdown",
   "id": "a2e6c96f",
   "metadata": {},
   "source": [
    "### Mean Absolute Error:"
   ]
  },
  {
   "cell_type": "code",
   "execution_count": 42,
   "id": "5081c4fd",
   "metadata": {},
   "outputs": [
    {
     "name": "stdout",
     "output_type": "stream",
     "text": [
      "MAE:  7140.720294775131\n"
     ]
    }
   ],
   "source": [
    "#Mean Absolute Error(MAE)\n",
    "from sklearn.metrics import mean_absolute_error\n",
    "print(\"MAE: \",mean_absolute_error(y_test,y_pred))"
   ]
  },
  {
   "cell_type": "markdown",
   "id": "db2f1b64",
   "metadata": {},
   "source": [
    "### Mean Squared Error:"
   ]
  },
  {
   "cell_type": "code",
   "execution_count": 43,
   "id": "06e324ff",
   "metadata": {},
   "outputs": [
    {
     "name": "stdout",
     "output_type": "stream",
     "text": [
      "MSE:  106863055.47146617\n"
     ]
    }
   ],
   "source": [
    "#Mean Squared Error(MSE)\n",
    "from sklearn.metrics import mean_squared_error\n",
    "print(\"MSE: \",mean_squared_error(y_test,y_pred))"
   ]
  },
  {
   "cell_type": "markdown",
   "id": "ccd8a657",
   "metadata": {},
   "source": [
    "### Root Mean Squared Error:"
   ]
  },
  {
   "cell_type": "code",
   "execution_count": 44,
   "id": "311b21b9",
   "metadata": {},
   "outputs": [
    {
     "name": "stdout",
     "output_type": "stream",
     "text": [
      "RMSE:  10337.458849807634\n"
     ]
    }
   ],
   "source": [
    "#Root Mean Squared Error(RMSE)\n",
    "print(\"RMSE: \",np.sqrt(mean_squared_error(y_test,y_pred)))"
   ]
  },
  {
   "cell_type": "markdown",
   "id": "65f73b80",
   "metadata": {},
   "source": [
    "### R Squared (R2):"
   ]
  },
  {
   "cell_type": "code",
   "execution_count": 45,
   "id": "1d8063f8",
   "metadata": {},
   "outputs": [
    {
     "name": "stdout",
     "output_type": "stream",
     "text": [
      "R2:  0.8177591362332536\n"
     ]
    }
   ],
   "source": [
    "#R Squared (R2)\n",
    "from sklearn.metrics import r2_score\n",
    "r2 = r2_score(y_test,y_pred)\n",
    "print(\"R2: \",r2)"
   ]
  },
  {
   "cell_type": "markdown",
   "id": "8fd5b905",
   "metadata": {},
   "source": [
    "As we can see that we are getting the accuracy of nearly 82%"
   ]
  },
  {
   "cell_type": "markdown",
   "id": "1e06cda7",
   "metadata": {},
   "source": [
    "# Conclusion\n",
    "\n",
    "Model Final accuracy is above 80 % so it can be trusted.\n",
    "\n",
    "As model used the many of main features that is required to calculate the cost of any car is been considered.\n",
    "\n",
    "Rainforest Regression model turned to be a successful choice of regression model giving proper results with good accuracy.\n",
    "\n",
    "\n",
    "Prices are generally high because there is less supply of EV cars in the market.\n",
    "As time will pass more manufactures will emerge from the local areas with similar features as big companies like Tesla,Audi and hence the price will decrease gradually."
   ]
  }
 ],
 "metadata": {
  "kernelspec": {
   "display_name": "Python 3",
   "language": "python",
   "name": "python3"
  },
  "language_info": {
   "codemirror_mode": {
    "name": "ipython",
    "version": 3
   },
   "file_extension": ".py",
   "mimetype": "text/x-python",
   "name": "python",
   "nbconvert_exporter": "python",
   "pygments_lexer": "ipython3",
   "version": "3.8.8"
  }
 },
 "nbformat": 4,
 "nbformat_minor": 5
}
